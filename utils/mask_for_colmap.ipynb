{
 "cells": [
  {
   "cell_type": "code",
   "execution_count": 1,
   "metadata": {},
   "outputs": [],
   "source": [
    "import cv2\n",
    "import numpy as np\n",
    "import os\n",
    "import matplotlib.pyplot as plt"
   ]
  },
  {
   "cell_type": "code",
   "execution_count": 6,
   "metadata": {},
   "outputs": [],
   "source": [
    "masks = 'C:/Users/Sam/Downloads/greendino/greendino/8_masks/'\n",
    "out= 'C:/Users/Sam/Downloads/greendino/greendino/colmap/masks/'"
   ]
  },
  {
   "cell_type": "code",
   "execution_count": 7,
   "metadata": {},
   "outputs": [],
   "source": [
    "for image in os.listdir(masks):\n",
    "    \n",
    "    img = cv2.imread(masks+image)\n",
    "    cv2.imwrite(out+image+\".png\", img)"
   ]
  }
 ],
 "metadata": {
  "kernelspec": {
   "display_name": "wisp",
   "language": "python",
   "name": "python3"
  },
  "language_info": {
   "codemirror_mode": {
    "name": "ipython",
    "version": 3
   },
   "file_extension": ".py",
   "mimetype": "text/x-python",
   "name": "python",
   "nbconvert_exporter": "python",
   "pygments_lexer": "ipython3",
   "version": "3.9.15"
  },
  "orig_nbformat": 4,
  "vscode": {
   "interpreter": {
    "hash": "8574613949aacaac1b84c3829d9fc933dd2bc90dca9785cea80dd6e2b654de4e"
   }
  }
 },
 "nbformat": 4,
 "nbformat_minor": 2
}
