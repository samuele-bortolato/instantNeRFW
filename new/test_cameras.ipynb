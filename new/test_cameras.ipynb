{
 "cells": [
  {
   "cell_type": "code",
   "execution_count": 1,
   "metadata": {},
   "outputs": [
    {
     "name": "stderr",
     "output_type": "stream",
     "text": [
      "c:\\Users\\Sam\\miniconda3\\envs\\wisp1\\lib\\site-packages\\tqdm\\auto.py:21: TqdmWarning: IProgress not found. Please update jupyter and ipywidgets. See https://ipywidgets.readthedocs.io/en/stable/user_install.html\n",
      "  from .autonotebook import tqdm as notebook_tqdm\n"
     ]
    }
   ],
   "source": [
    "import torch\n",
    "import numpy as np"
   ]
  },
  {
   "cell_type": "code",
   "execution_count": 2,
   "metadata": {},
   "outputs": [],
   "source": [
    "M=np.array([\n",
    "        [\n",
    "          0.9949493563944524,\n",
    "          -0.020502346593855254,\n",
    "          0.0982620576863761,\n",
    "          0.49400064930106524\n",
    "        ],\n",
    "        [\n",
    "          0.09425991666129768,\n",
    "          -0.1457059879252915,\n",
    "          -0.9848273113564319,\n",
    "          -3.999885410086487\n",
    "        ],\n",
    "        [\n",
    "          0.034508641063289575,\n",
    "          0.9891154729622466,\n",
    "          -0.1430375294277888,\n",
    "          -0.47155737598383146\n",
    "        ],\n",
    "        [\n",
    "          0.0,\n",
    "          0.0,\n",
    "          0.0,\n",
    "          1.0\n",
    "        ]\n",
    "      ])"
   ]
  },
  {
   "cell_type": "code",
   "execution_count": 3,
   "metadata": {},
   "outputs": [
    {
     "data": {
      "text/plain": [
       "array([[ 0.99494936, -0.02050235,  0.09826206,  0.49400065],\n",
       "       [ 0.09425992, -0.14570599, -0.98482731, -3.99988541],\n",
       "       [ 0.03450864,  0.98911547, -0.14303753, -0.47155738],\n",
       "       [ 0.        ,  0.        ,  0.        ,  1.        ]])"
      ]
     },
     "execution_count": 3,
     "metadata": {},
     "output_type": "execute_result"
    }
   ],
   "source": [
    "M"
   ]
  },
  {
   "cell_type": "code",
   "execution_count": 5,
   "metadata": {},
   "outputs": [
    {
     "data": {
      "text/plain": [
       "array([[ 0.99494936,  0.09425992,  0.03450864, -0.09820396],\n",
       "       [-0.02050235, -0.14570599,  0.98911547, -0.10625439],\n",
       "       [ 0.09826206, -0.98482731, -0.14303753, -4.05518832],\n",
       "       [ 0.        ,  0.        ,  0.        ,  1.        ]])"
      ]
     },
     "execution_count": 5,
     "metadata": {},
     "output_type": "execute_result"
    }
   ],
   "source": [
    "np.linalg.inv(M)"
   ]
  },
  {
   "cell_type": "code",
   "execution_count": 23,
   "metadata": {},
   "outputs": [
    {
     "data": {
      "text/plain": [
       "array([[ 0.99494936,  0.09425992,  0.03450864, -0.09820396],\n",
       "       [-0.02050235, -0.14570599,  0.98911547, -0.10625439],\n",
       "       [ 0.09826206, -0.98482731, -0.14303753, -4.05518832],\n",
       "       [ 0.        ,  0.        ,  0.        ,  1.        ]])"
      ]
     },
     "execution_count": 23,
     "metadata": {},
     "output_type": "execute_result"
    }
   ],
   "source": [
    "A=np.zeros_like(M)\n",
    "A[:3,:3]=M[:3,:3].T\n",
    "A[:3,-1]=np.matmul(-M[:3,:3].T, M[:3, -1])\n",
    "A[3,3]=1\n",
    "A"
   ]
  },
  {
   "cell_type": "code",
   "execution_count": 24,
   "metadata": {},
   "outputs": [
    {
     "data": {
      "text/plain": [
       "array([[ True,  True,  True,  True],\n",
       "       [ True,  True,  True,  True],\n",
       "       [ True,  True,  True,  True],\n",
       "       [ True,  True,  True,  True]])"
      ]
     },
     "execution_count": 24,
     "metadata": {},
     "output_type": "execute_result"
    }
   ],
   "source": [
    "np.abs(np.linalg.inv(M)-A)<1e-8"
   ]
  },
  {
   "cell_type": "code",
   "execution_count": 35,
   "metadata": {},
   "outputs": [
    {
     "data": {
      "text/plain": [
       "tensor([[[-1.0515,  0.6854, -0.2414, -0.0772],\n",
       "         [ 0.3678,  0.6213,  0.2522, -0.7743],\n",
       "         [-0.7591, -0.5697, -0.1761, -0.3611],\n",
       "         [-0.2778,  1.3940,  0.8210, -0.0120]],\n",
       "\n",
       "        [[ 0.3847,  0.7167,  0.8006,  0.5021],\n",
       "         [ 1.1498,  1.2870,  0.1477, -0.4163],\n",
       "         [ 0.4068, -0.9256,  0.5818,  0.9137],\n",
       "         [ 1.5051, -0.2232,  1.4569, -0.9175]],\n",
       "\n",
       "        [[-0.3012, -0.6306,  1.1929,  0.7803],\n",
       "         [ 0.9650, -0.2710,  0.4965, -2.1682],\n",
       "         [ 0.4705,  1.6610,  0.2505,  0.4283],\n",
       "         [-1.0500, -0.9464, -0.2267, -0.2603]]])"
      ]
     },
     "execution_count": 35,
     "metadata": {},
     "output_type": "execute_result"
    }
   ],
   "source": [
    "import torch\n",
    "M=torch.randn(3,4,4)\n",
    "M"
   ]
  },
  {
   "cell_type": "code",
   "execution_count": 37,
   "metadata": {},
   "outputs": [
    {
     "data": {
      "text/plain": [
       "tensor([ 0.3678, -0.9175,  0.4965, -1.0515])"
      ]
     },
     "execution_count": 37,
     "metadata": {},
     "output_type": "execute_result"
    }
   ],
   "source": [
    "import numpy as np\n",
    "idx=np.array([[0,1,2,0],[1,3,1,0],[0,3,2,0]])\n",
    "M[idx]"
   ]
  },
  {
   "cell_type": "code",
   "execution_count": 39,
   "metadata": {},
   "outputs": [
    {
     "data": {
      "text/plain": [
       "torch.Size([10, 4, 4])"
      ]
     },
     "execution_count": 39,
     "metadata": {},
     "output_type": "execute_result"
    }
   ],
   "source": [
    "M[[0,0,0,0,0,1,2,1,2,1]].shape"
   ]
  },
  {
   "cell_type": "code",
   "execution_count": 16,
   "metadata": {},
   "outputs": [
    {
     "data": {
      "text/plain": [
       "torch.Size([6, 3])"
      ]
     },
     "execution_count": 16,
     "metadata": {},
     "output_type": "execute_result"
    }
   ],
   "source": [
    "M[torch.Tensor([0,1,4,5,6,7]).long(),:3,-1].shape"
   ]
  },
  {
   "cell_type": "code",
   "execution_count": 17,
   "metadata": {},
   "outputs": [
    {
     "data": {
      "text/plain": [
       "torch.Size([10, 4, 2])"
      ]
     },
     "execution_count": 17,
     "metadata": {},
     "output_type": "execute_result"
    }
   ],
   "source": [
    "(torch.randn(10,4,5)@torch.randn(10,5,2)).shape"
   ]
  }
 ],
 "metadata": {
  "kernelspec": {
   "display_name": "wisp",
   "language": "python",
   "name": "python3"
  },
  "language_info": {
   "codemirror_mode": {
    "name": "ipython",
    "version": 3
   },
   "file_extension": ".py",
   "mimetype": "text/x-python",
   "name": "python",
   "nbconvert_exporter": "python",
   "pygments_lexer": "ipython3",
   "version": "3.9.16"
  },
  "orig_nbformat": 4
 },
 "nbformat": 4,
 "nbformat_minor": 2
}
