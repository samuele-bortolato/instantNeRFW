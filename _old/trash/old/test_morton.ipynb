{
 "cells": [
  {
   "cell_type": "code",
   "execution_count": 2,
   "metadata": {},
   "outputs": [
    {
     "name": "stderr",
     "output_type": "stream",
     "text": [
      "c:\\Users\\Sam\\miniconda3\\envs\\wisp\\lib\\site-packages\\tqdm-4.64.1-py3.9.egg\\tqdm\\auto.py:22: TqdmWarning: IProgress not found. Please update jupyter and ipywidgets. See https://ipywidgets.readthedocs.io/en/stable/user_install.html\n",
      "  from .autonotebook import tqdm as notebook_tqdm\n"
     ]
    }
   ],
   "source": [
    "import numpy as np\n",
    "import torch\n",
    "import matplotlib.pyplot as plt"
   ]
  },
  {
   "cell_type": "code",
   "execution_count": 3,
   "metadata": {},
   "outputs": [
    {
     "data": {
      "text/plain": [
       "tensor([[0, 0, 0],\n",
       "        [0, 0, 1],\n",
       "        [0, 0, 2],\n",
       "        [0, 0, 3],\n",
       "        [0, 1, 0]], dtype=torch.int16)"
      ]
     },
     "execution_count": 3,
     "metadata": {},
     "output_type": "execute_result"
    }
   ],
   "source": [
    "points= torch.tensor([\n",
    "[0, 0, 0],\n",
    "[0, 0, 1],\n",
    "[0, 0, 2],\n",
    "[0, 0, 3],\n",
    "[0, 1, 0]], device='cpu', dtype=torch.int16)\n",
    "points"
   ]
  },
  {
   "cell_type": "code",
   "execution_count": 4,
   "metadata": {},
   "outputs": [],
   "source": [
    "levels=6"
   ]
  },
  {
   "cell_type": "code",
   "execution_count": 5,
   "metadata": {},
   "outputs": [
    {
     "data": {
      "text/plain": [
       "<matplotlib.image.AxesImage at 0x1fa1a0a99a0>"
      ]
     },
     "execution_count": 5,
     "metadata": {},
     "output_type": "execute_result"
    },
    {
     "data": {
      "image/png": "[encoded data removed]",
      "text/plain": [
       "<Figure size 640x480 with 1 Axes>"
      ]
     },
     "metadata": {},
     "output_type": "display_data"
    }
   ],
   "source": [
    "p=np.zeros((2**levels,2**levels,2**levels))\n",
    "p[points[:,0],points[:,1],points[:,2]]=1\n",
    "plt.imshow(p[0,:10,:10])"
   ]
  },
  {
   "cell_type": "code",
   "execution_count": 6,
   "metadata": {},
   "outputs": [
    {
     "data": {
      "text/plain": [
       "(5, 24)"
      ]
     },
     "execution_count": 6,
     "metadata": {},
     "output_type": "execute_result"
    }
   ],
   "source": [
    "pts=np.array(torch.unique(points,dim=0), dtype=np.uint8)[:,None]\n",
    "bits = np.unpackbits(pts, 1)[...,[2,1,1]]\n",
    "bits=bits.reshape(len(bits),-1)\n",
    "bits.shape"
   ]
  },
  {
   "cell_type": "code",
   "execution_count": 7,
   "metadata": {},
   "outputs": [
    {
     "data": {
      "text/plain": [
       "array([ 0,  4, 32, 36,  3], dtype=int32)"
      ]
     },
     "execution_count": 7,
     "metadata": {},
     "output_type": "execute_result"
    }
   ],
   "source": [
    "m_idx=bits@np.power(2,np.arange(24)[ : :-1])\n",
    "m_idx"
   ]
  },
  {
   "cell_type": "code",
   "execution_count": 8,
   "metadata": {},
   "outputs": [
    {
     "data": {
      "text/plain": [
       "array([False, False, False, ..., False, False, False])"
      ]
     },
     "execution_count": 8,
     "metadata": {},
     "output_type": "execute_result"
    }
   ],
   "source": [
    "oct=np.zeros((2**levels)**3, dtype=bool)\n",
    "oct"
   ]
  },
  {
   "cell_type": "code",
   "execution_count": 9,
   "metadata": {},
   "outputs": [
    {
     "data": {
      "text/plain": [
       "array([ True, False, False, ..., False, False, False])"
      ]
     },
     "execution_count": 9,
     "metadata": {},
     "output_type": "execute_result"
    }
   ],
   "source": [
    "oct[m_idx]=1\n",
    "oct"
   ]
  },
  {
   "cell_type": "code",
   "execution_count": 10,
   "metadata": {},
   "outputs": [],
   "source": [
    "octree=[]"
   ]
  },
  {
   "cell_type": "code",
   "execution_count": 11,
   "metadata": {},
   "outputs": [
    {
     "data": {
      "text/plain": [
       "(262144,)"
      ]
     },
     "execution_count": 11,
     "metadata": {},
     "output_type": "execute_result"
    }
   ],
   "source": [
    "oct.shape"
   ]
  },
  {
   "cell_type": "code",
   "execution_count": 12,
   "metadata": {},
   "outputs": [],
   "source": [
    "for l in range(levels):\n",
    "    octL = np.packbits(oct.reshape(-1,8),-1)\n",
    "    oct = octL>0\n",
    "    octree.insert(0,octL[oct])"
   ]
  },
  {
   "cell_type": "code",
   "execution_count": 13,
   "metadata": {},
   "outputs": [
    {
     "name": "stdout",
     "output_type": "stream",
     "text": [
      "[128]\n",
      "[1 0 0 0 0 0 0 0]\n",
      "[128]\n",
      "[1 0 0 0 0 0 0 0]\n",
      "[128]\n",
      "[1 0 0 0 0 0 0 0]\n",
      "[128]\n",
      "[1 0 0 0 0 0 0 0]\n",
      "[136]\n",
      "[1 0 0 0 1 0 0 0]\n",
      "[152 136]\n",
      "[1 0 0 1 1 0 0 0 1 0 0 0 1 0 0 0]\n"
     ]
    }
   ],
   "source": [
    "for i in range(levels):\n",
    "    print(octree[i])\n",
    "    print(np.unpackbits(octree[i]))"
   ]
  },
  {
   "cell_type": "code",
   "execution_count": 14,
   "metadata": {},
   "outputs": [
    {
     "data": {
      "text/plain": [
       "array([128, 128, 128, 128, 136, 152, 136], dtype=uint8)"
      ]
     },
     "execution_count": 14,
     "metadata": {},
     "output_type": "execute_result"
    }
   ],
   "source": [
    "np.concatenate(octree)"
   ]
  },
  {
   "cell_type": "code",
   "execution_count": 15,
   "metadata": {},
   "outputs": [],
   "source": [
    "level=6\n",
    "t=0\n",
    "for i in range(level):\n",
    "    t+=(2**i)**3"
   ]
  },
  {
   "cell_type": "code",
   "execution_count": 16,
   "metadata": {},
   "outputs": [
    {
     "data": {
      "text/plain": [
       "37449"
      ]
     },
     "execution_count": 16,
     "metadata": {},
     "output_type": "execute_result"
    }
   ],
   "source": [
    "t"
   ]
  },
  {
   "cell_type": "code",
   "execution_count": 17,
   "metadata": {},
   "outputs": [],
   "source": [
    "import wisp.ops.spc as wisp_spc_ops"
   ]
  },
  {
   "cell_type": "code",
   "execution_count": 66,
   "metadata": {},
   "outputs": [],
   "source": [
    "import numpy as np\n",
    "def quantized_to_octree(quantized_points, level):\n",
    "\n",
    "    if quantized_points.device!='cpu':\n",
    "        quantized_points=quantized_points.detach().cpu()\n",
    "\n",
    "    pts=np.array(torch.unique(quantized_points,dim=0), dtype=np.uint8)[:,None]\n",
    "    bits = np.unpackbits(pts, 1)[...,[0,1,2]]\n",
    "    bits = bits.reshape(len(bits),-1)\n",
    "\n",
    "    m_idx=bits@np.power(2,np.arange(24)[ : :-1])\n",
    "\n",
    "    oct=np.zeros((2**level)**3, dtype=bool)\n",
    "    oct[m_idx]=1\n",
    "    octree=[]\n",
    "\n",
    "    for _ in range(level):\n",
    "        octL = np.packbits(oct.reshape(-1,8),-1,bitorder='little')\n",
    "        oct = octL>0\n",
    "        octree.insert(0,octL[oct])\n",
    "\n",
    "    return torch.tensor(np.concatenate(octree), dtype=torch.uint8, device='cuda')"
   ]
  },
  {
   "cell_type": "code",
   "execution_count": 70,
   "metadata": {},
   "outputs": [
    {
     "data": {
      "text/plain": [
       "tensor([[0, 0, 0],\n",
       "        [0, 0, 1],\n",
       "        [0, 0, 2],\n",
       "        [0, 0, 3],\n",
       "        [0, 1, 0]], dtype=torch.int16)"
      ]
     },
     "execution_count": 70,
     "metadata": {},
     "output_type": "execute_result"
    }
   ],
   "source": [
    "points"
   ]
  },
  {
   "cell_type": "code",
   "execution_count": 67,
   "metadata": {},
   "outputs": [
    {
     "data": {
      "text/plain": [
       "(tensor([1, 1, 1, 1, 3, 7, 3], device='cuda:0', dtype=torch.uint8),\n",
       " tensor([[0, 0, 0],\n",
       "         [0, 0, 0],\n",
       "         [0, 0, 0],\n",
       "         [0, 0, 0],\n",
       "         [0, 0, 0],\n",
       "         [0, 0, 0],\n",
       "         [0, 0, 1],\n",
       "         [0, 0, 0],\n",
       "         [0, 0, 1],\n",
       "         [0, 1, 0],\n",
       "         [0, 0, 2],\n",
       "         [0, 0, 3]], device='cuda:0', dtype=torch.int16),\n",
       " tensor([[ 1,  1,  1,  1,  1,  2,  5,  0],\n",
       "         [ 0,  1,  2,  3,  4,  5,  7, 12]], dtype=torch.int32),\n",
       " tensor([ 0,  1,  2,  3,  4,  6,  9, 11], device='cuda:0', dtype=torch.int32))"
      ]
     },
     "execution_count": 67,
     "metadata": {},
     "output_type": "execute_result"
    }
   ],
   "source": [
    "octree = quantized_to_octree(points, level)\n",
    "points1, pyramid, prefix = wisp_spc_ops.octree_to_spc(octree)\n",
    "octree, points1, pyramid, prefix"
   ]
  },
  {
   "cell_type": "code",
   "execution_count": 68,
   "metadata": {},
   "outputs": [
    {
     "data": {
      "text/plain": [
       "(tensor([1, 1, 1, 1, 3, 7, 3], device='cuda:0', dtype=torch.uint8),\n",
       " tensor([[0, 0, 0],\n",
       "         [0, 1, 0]], device='cuda:0', dtype=torch.int16),\n",
       " tensor([[1, 1, 0],\n",
       "         [0, 1, 2]], dtype=torch.int32),\n",
       " tensor([0, 1], device='cuda:0', dtype=torch.int32))"
      ]
     },
     "execution_count": 68,
     "metadata": {},
     "output_type": "execute_result"
    }
   ],
   "source": [
    "points1, pyramid, prefix = wisp_spc_ops.octree_to_spc(torch.tensor([4],dtype=torch.uint8, device='cuda'))\n",
    "octree, points1, pyramid, prefix"
   ]
  },
  {
   "cell_type": "code",
   "execution_count": 69,
   "metadata": {},
   "outputs": [
    {
     "data": {
      "text/plain": [
       "tensor([4], device='cuda:0', dtype=torch.uint8)"
      ]
     },
     "execution_count": 69,
     "metadata": {},
     "output_type": "execute_result"
    }
   ],
   "source": [
    "quantized_to_octree(torch.tensor([[0,1,0]]), 1)"
   ]
  }
 ],
 "metadata": {
  "kernelspec": {
   "display_name": "wisp",
   "language": "python",
   "name": "python3"
  },
  "language_info": {
   "codemirror_mode": {
    "name": "ipython",
    "version": 3
   },
   "file_extension": ".py",
   "mimetype": "text/x-python",
   "name": "python",
   "nbconvert_exporter": "python",
   "pygments_lexer": "ipython3",
   "version": "3.9.15"
  },
  "orig_nbformat": 4,
  "vscode": {
   "interpreter": {
    "hash": "8574613949aacaac1b84c3829d9fc933dd2bc90dca9785cea80dd6e2b654de4e"
   }
  }
 },
 "nbformat": 4,
 "nbformat_minor": 2
}
