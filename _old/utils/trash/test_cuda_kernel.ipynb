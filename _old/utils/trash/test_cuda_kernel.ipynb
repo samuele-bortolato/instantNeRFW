{
 "cells": [
  {
   "cell_type": "code",
   "execution_count": 1,
   "metadata": {},
   "outputs": [
    {
     "name": "stderr",
     "output_type": "stream",
     "text": [
      "c:\\Users\\Sam\\miniconda3\\envs\\wisp\\lib\\site-packages\\tqdm-4.64.1-py3.9.egg\\tqdm\\auto.py:22: TqdmWarning: IProgress not found. Please update jupyter and ipywidgets. See https://ipywidgets.readthedocs.io/en/stable/user_install.html\n",
      "  from .autonotebook import tqdm as notebook_tqdm\n"
     ]
    }
   ],
   "source": [
    "import torch\n",
    "import numpy as np\n",
    "import time"
   ]
  },
  {
   "cell_type": "code",
   "execution_count": 2,
   "metadata": {},
   "outputs": [],
   "source": [
    "def quantized_to_octree(quantized_points, level):\n",
    "\n",
    "    if quantized_points.device!='cpu':\n",
    "        quantized_points=quantized_points.detach().cpu()\n",
    "\n",
    "    pts=np.array(torch.unique(quantized_points,dim=0), dtype=np.uint8)[:,None]\n",
    "    bits = np.unpackbits(pts, 1)[...,[0,1,2]]\n",
    "    bits = bits.reshape(len(bits),-1)\n",
    "\n",
    "    m_idx=bits@np.power(2,np.arange(24)[ : :-1])\n",
    "\n",
    "    oct=np.zeros((2**level)**3, dtype=bool)\n",
    "    oct[m_idx]=1\n",
    "    octree=[]\n",
    "\n",
    "    for _ in range(level):\n",
    "        octL = np.packbits(oct.reshape(-1,8),-1,bitorder='little')\n",
    "        oct = octL>0\n",
    "        octree.insert(0,octL[oct])\n",
    "\n",
    "    return torch.tensor(np.concatenate(octree), dtype=torch.uint8, device='cuda')"
   ]
  },
  {
   "cell_type": "code",
   "execution_count": 42,
   "metadata": {},
   "outputs": [],
   "source": [
    "levels=8\n",
    "n=10000\n",
    "occupied=torch.randint(0,2**levels,(n,3))"
   ]
  },
  {
   "cell_type": "code",
   "execution_count": 50,
   "metadata": {},
   "outputs": [],
   "source": [
    "A=quantized_to_octree(occupied,levels)"
   ]
  },
  {
   "cell_type": "code",
   "execution_count": 44,
   "metadata": {},
   "outputs": [
    {
     "data": {
      "text/plain": [
       "device(type='cpu')"
      ]
     },
     "execution_count": 44,
     "metadata": {},
     "output_type": "execute_result"
    }
   ],
   "source": [
    "occupied.device"
   ]
  },
  {
   "cell_type": "code",
   "execution_count": 45,
   "metadata": {},
   "outputs": [
    {
     "data": {
      "text/plain": [
       "tensor([[  1],\n",
       "        [  2],\n",
       "        [  4],\n",
       "        [  8],\n",
       "        [ 16],\n",
       "        [ 32],\n",
       "        [ 64],\n",
       "        [128]], dtype=torch.uint8)"
      ]
     },
     "execution_count": 45,
     "metadata": {},
     "output_type": "execute_result"
    }
   ],
   "source": [
    "map=torch.pow(2,torch.arange(8).to(torch.uint8)[:,None])\n",
    "map"
   ]
  },
  {
   "cell_type": "code",
   "execution_count": 46,
   "metadata": {},
   "outputs": [],
   "source": [
    "from kaolin import _C\n",
    "\n",
    "def quantized_to_octree1(quantized_points, level):\n",
    "\n",
    "    morton=_C.ops.spc.points_to_morton_cuda(quantized_points.contiguous().short().cuda())\n",
    "\n",
    "    oct=torch.zeros((2**level)**3, dtype=bool)\n",
    "    oct[morton]=1\n",
    "    octree=[]\n",
    "\n",
    "    for _ in range(level):\n",
    "        octL = oct.reshape(-1,8).byte()@ map\n",
    "        oct = octL>0\n",
    "        octree.insert(0,octL[oct])\n",
    "\n",
    "    return torch.tensor(np.concatenate(octree), dtype=torch.uint8, device='cuda')"
   ]
  },
  {
   "cell_type": "code",
   "execution_count": 51,
   "metadata": {},
   "outputs": [],
   "source": [
    "B=quantized_to_octree1(occupied,levels)"
   ]
  },
  {
   "cell_type": "code",
   "execution_count": 52,
   "metadata": {},
   "outputs": [
    {
     "data": {
      "text/plain": [
       "tensor(True, device='cuda:0')"
      ]
     },
     "execution_count": 52,
     "metadata": {},
     "output_type": "execute_result"
    }
   ],
   "source": [
    "torch.all(A==B)"
   ]
  },
  {
   "attachments": {},
   "cell_type": "markdown",
   "metadata": {},
   "source": [
    "# CUDA KERNEL"
   ]
  },
  {
   "cell_type": "code",
   "execution_count": 6,
   "metadata": {},
   "outputs": [],
   "source": [
    "import torch\n",
    "import spc"
   ]
  },
  {
   "cell_type": "code",
   "execution_count": 7,
   "metadata": {},
   "outputs": [
    {
     "name": "stderr",
     "output_type": "stream",
     "text": [
      "C:\\Users\\Sam\\AppData\\Local\\Temp\\ipykernel_14084\\1858587691.py:1: UserWarning: To copy construct from a tensor, it is recommended to use sourceTensor.clone().detach() or sourceTensor.clone().detach().requires_grad_(True), rather than torch.tensor(sourceTensor).\n",
      "  occupied=torch.tensor(occupied).cuda().to(torch.int32)\n"
     ]
    }
   ],
   "source": [
    "occupied=torch.tensor(occupied).cuda().to(torch.int32)"
   ]
  },
  {
   "cell_type": "code",
   "execution_count": 8,
   "metadata": {},
   "outputs": [
    {
     "data": {
      "text/plain": [
       "torch.int32"
      ]
     },
     "execution_count": 8,
     "metadata": {},
     "output_type": "execute_result"
    }
   ],
   "source": [
    "occupied.dtype"
   ]
  },
  {
   "cell_type": "code",
   "execution_count": 9,
   "metadata": {},
   "outputs": [
    {
     "ename": "",
     "evalue": "",
     "output_type": "error",
     "traceback": [
      "\u001b[1;31mCanceled future for execute_request message before replies were done"
     ]
    },
    {
     "ename": "",
     "evalue": "",
     "output_type": "error",
     "traceback": [
      "\u001b[1;31mThe Kernel crashed while executing code in the the current cell or a previous cell. Please review the code in the cell(s) to identify a possible cause of the failure. Click <a href='https://aka.ms/vscodeJupyterKernelCrash'>here</a> for more info. View Jupyter <a href='command:jupyter.viewOutput'>log</a> for further details."
     ]
    }
   ],
   "source": [
    "out= spc.spc(occupied,levels)"
   ]
  },
  {
   "cell_type": "code",
   "execution_count": null,
   "metadata": {},
   "outputs": [
    {
     "data": {
      "text/plain": [
       "(tensor([      0,       1,       9,      73,     585,    4681,   37449,  299593,\n",
       "         2396745], dtype=torch.int32),\n",
       " tensor([       1,        9,       73,      585,     4681,    37449,   299593,\n",
       "          2396745, 19173961], dtype=torch.int32))"
      ]
     },
     "execution_count": 10,
     "metadata": {},
     "output_type": "execute_result"
    }
   ],
   "source": [
    "out[1],out[2]"
   ]
  },
  {
   "cell_type": "code",
   "execution_count": null,
   "metadata": {},
   "outputs": [
    {
     "data": {
      "text/plain": [
       "tensor([0, 0, 0,  ..., 0, 0, 0], dtype=torch.uint8)"
      ]
     },
     "execution_count": 11,
     "metadata": {},
     "output_type": "execute_result"
    }
   ],
   "source": [
    "out[0]"
   ]
  },
  {
   "cell_type": "code",
   "execution_count": null,
   "metadata": {},
   "outputs": [
    {
     "data": {
      "text/plain": [
       "tensor([     100,        1,  2396745, 19173961,        0,        0,        0,\n",
       "               0,        0], dtype=torch.int32)"
      ]
     },
     "execution_count": 12,
     "metadata": {},
     "output_type": "execute_result"
    }
   ],
   "source": [
    "out[3]"
   ]
  },
  {
   "cell_type": "code",
   "execution_count": null,
   "metadata": {},
   "outputs": [
    {
     "data": {
      "text/plain": [
       "16777216"
      ]
     },
     "execution_count": 13,
     "metadata": {},
     "output_type": "execute_result"
    }
   ],
   "source": [
    "19173961-2396745"
   ]
  },
  {
   "cell_type": "code",
   "execution_count": null,
   "metadata": {},
   "outputs": [],
   "source": [
    "out[4]"
   ]
  }
 ],
 "metadata": {
  "kernelspec": {
   "display_name": "wisp",
   "language": "python",
   "name": "python3"
  },
  "language_info": {
   "codemirror_mode": {
    "name": "ipython",
    "version": 3
   },
   "file_extension": ".py",
   "mimetype": "text/x-python",
   "name": "python",
   "nbconvert_exporter": "python",
   "pygments_lexer": "ipython3",
   "version": "3.9.15"
  },
  "orig_nbformat": 4
 },
 "nbformat": 4,
 "nbformat_minor": 2
}
