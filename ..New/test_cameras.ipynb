{
 "cells": [
  {
   "cell_type": "code",
   "execution_count": 2,
   "metadata": {},
   "outputs": [
    {
     "name": "stderr",
     "output_type": "stream",
     "text": [
      "c:\\Users\\Sam\\miniconda3\\envs\\wisp\\lib\\site-packages\\tqdm-4.64.1-py3.9.egg\\tqdm\\auto.py:22: TqdmWarning: IProgress not found. Please update jupyter and ipywidgets. See https://ipywidgets.readthedocs.io/en/stable/user_install.html\n",
      "  from .autonotebook import tqdm as notebook_tqdm\n"
     ]
    }
   ],
   "source": [
    "import torch\n",
    "import numpy as np"
   ]
  },
  {
   "cell_type": "code",
   "execution_count": 3,
   "metadata": {},
   "outputs": [],
   "source": [
    "M=np.array([\n",
    "        [\n",
    "          0.9949493563944524,\n",
    "          -0.020502346593855254,\n",
    "          0.0982620576863761,\n",
    "          0.49400064930106524\n",
    "        ],\n",
    "        [\n",
    "          0.09425991666129768,\n",
    "          -0.1457059879252915,\n",
    "          -0.9848273113564319,\n",
    "          -3.999885410086487\n",
    "        ],\n",
    "        [\n",
    "          0.034508641063289575,\n",
    "          0.9891154729622466,\n",
    "          -0.1430375294277888,\n",
    "          -0.47155737598383146\n",
    "        ],\n",
    "        [\n",
    "          0.0,\n",
    "          0.0,\n",
    "          0.0,\n",
    "          1.0\n",
    "        ]\n",
    "      ])"
   ]
  },
  {
   "cell_type": "code",
   "execution_count": 4,
   "metadata": {},
   "outputs": [
    {
     "data": {
      "text/plain": [
       "array([[ 0.99494936, -0.02050235,  0.09826206,  0.49400065],\n",
       "       [ 0.09425992, -0.14570599, -0.98482731, -3.99988541],\n",
       "       [ 0.03450864,  0.98911547, -0.14303753, -0.47155738],\n",
       "       [ 0.        ,  0.        ,  0.        ,  1.        ]])"
      ]
     },
     "execution_count": 4,
     "metadata": {},
     "output_type": "execute_result"
    }
   ],
   "source": [
    "M"
   ]
  },
  {
   "cell_type": "code",
   "execution_count": 5,
   "metadata": {},
   "outputs": [
    {
     "data": {
      "text/plain": [
       "array([[ 0.99494936,  0.09425992,  0.03450864, -0.09820396],\n",
       "       [-0.02050235, -0.14570599,  0.98911547, -0.10625439],\n",
       "       [ 0.09826206, -0.98482731, -0.14303753, -4.05518832],\n",
       "       [ 0.        ,  0.        ,  0.        ,  1.        ]])"
      ]
     },
     "execution_count": 5,
     "metadata": {},
     "output_type": "execute_result"
    }
   ],
   "source": [
    "np.linalg.inv(M)"
   ]
  },
  {
   "cell_type": "code",
   "execution_count": 23,
   "metadata": {},
   "outputs": [
    {
     "data": {
      "text/plain": [
       "array([[ 0.99494936,  0.09425992,  0.03450864, -0.09820396],\n",
       "       [-0.02050235, -0.14570599,  0.98911547, -0.10625439],\n",
       "       [ 0.09826206, -0.98482731, -0.14303753, -4.05518832],\n",
       "       [ 0.        ,  0.        ,  0.        ,  1.        ]])"
      ]
     },
     "execution_count": 23,
     "metadata": {},
     "output_type": "execute_result"
    }
   ],
   "source": [
    "A=np.zeros_like(M)\n",
    "A[:3,:3]=M[:3,:3].T\n",
    "A[:3,-1]=np.matmul(-M[:3,:3].T, M[:3, -1])\n",
    "A[3,3]=1\n",
    "A"
   ]
  },
  {
   "cell_type": "code",
   "execution_count": 24,
   "metadata": {},
   "outputs": [
    {
     "data": {
      "text/plain": [
       "array([[ True,  True,  True,  True],\n",
       "       [ True,  True,  True,  True],\n",
       "       [ True,  True,  True,  True],\n",
       "       [ True,  True,  True,  True]])"
      ]
     },
     "execution_count": 24,
     "metadata": {},
     "output_type": "execute_result"
    }
   ],
   "source": [
    "np.abs(np.linalg.inv(M)-A)<1e-8"
   ]
  },
  {
   "cell_type": "code",
   "execution_count": 3,
   "metadata": {},
   "outputs": [],
   "source": [
    "class test():\n",
    "    def __init__(self,a):\n",
    "        return a+1"
   ]
  },
  {
   "cell_type": "code",
   "execution_count": 4,
   "metadata": {},
   "outputs": [
    {
     "ename": "TypeError",
     "evalue": "__init__() should return None, not 'int'",
     "output_type": "error",
     "traceback": [
      "\u001b[1;31m---------------------------------------------------------------------------\u001b[0m",
      "\u001b[1;31mTypeError\u001b[0m                                 Traceback (most recent call last)",
      "Cell \u001b[1;32mIn[4], line 1\u001b[0m\n\u001b[1;32m----> 1\u001b[0m test(\u001b[39m1\u001b[39;49m)\n",
      "\u001b[1;31mTypeError\u001b[0m: __init__() should return None, not 'int'"
     ]
    }
   ],
   "source": [
    "test(1)"
   ]
  }
 ],
 "metadata": {
  "kernelspec": {
   "display_name": "wisp",
   "language": "python",
   "name": "python3"
  },
  "language_info": {
   "codemirror_mode": {
    "name": "ipython",
    "version": 3
   },
   "file_extension": ".py",
   "mimetype": "text/x-python",
   "name": "python",
   "nbconvert_exporter": "python",
   "pygments_lexer": "ipython3",
   "version": "3.9.15"
  },
  "orig_nbformat": 4
 },
 "nbformat": 4,
 "nbformat_minor": 2
}
