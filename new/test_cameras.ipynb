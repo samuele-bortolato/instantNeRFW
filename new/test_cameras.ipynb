{
 "cells": [
  {
   "cell_type": "code",
   "execution_count": 1,
   "metadata": {},
   "outputs": [
    {
     "name": "stderr",
     "output_type": "stream",
     "text": [
      "c:\\Users\\Sam\\miniconda3\\envs\\wisp1\\lib\\site-packages\\tqdm\\auto.py:21: TqdmWarning: IProgress not found. Please update jupyter and ipywidgets. See https://ipywidgets.readthedocs.io/en/stable/user_install.html\n",
      "  from .autonotebook import tqdm as notebook_tqdm\n"
     ]
    }
   ],
   "source": [
    "import torch\n",
    "import numpy as np"
   ]
  },
  {
   "cell_type": "code",
   "execution_count": 2,
   "metadata": {},
   "outputs": [],
   "source": [
    "M=np.array([\n",
    "        [\n",
    "          0.9949493563944524,\n",
    "          -0.020502346593855254,\n",
    "          0.0982620576863761,\n",
    "          0.49400064930106524\n",
    "        ],\n",
    "        [\n",
    "          0.09425991666129768,\n",
    "          -0.1457059879252915,\n",
    "          -0.9848273113564319,\n",
    "          -3.999885410086487\n",
    "        ],\n",
    "        [\n",
    "          0.034508641063289575,\n",
    "          0.9891154729622466,\n",
    "          -0.1430375294277888,\n",
    "          -0.47155737598383146\n",
    "        ],\n",
    "        [\n",
    "          0.0,\n",
    "          0.0,\n",
    "          0.0,\n",
    "          1.0\n",
    "        ]\n",
    "      ])"
   ]
  },
  {
   "cell_type": "code",
   "execution_count": 3,
   "metadata": {},
   "outputs": [
    {
     "data": {
      "text/plain": [
       "array([[ 0.99494936, -0.02050235,  0.09826206,  0.49400065],\n",
       "       [ 0.09425992, -0.14570599, -0.98482731, -3.99988541],\n",
       "       [ 0.03450864,  0.98911547, -0.14303753, -0.47155738],\n",
       "       [ 0.        ,  0.        ,  0.        ,  1.        ]])"
      ]
     },
     "execution_count": 3,
     "metadata": {},
     "output_type": "execute_result"
    }
   ],
   "source": [
    "M"
   ]
  },
  {
   "cell_type": "code",
   "execution_count": 5,
   "metadata": {},
   "outputs": [
    {
     "data": {
      "text/plain": [
       "array([[ 0.99494936,  0.09425992,  0.03450864, -0.09820396],\n",
       "       [-0.02050235, -0.14570599,  0.98911547, -0.10625439],\n",
       "       [ 0.09826206, -0.98482731, -0.14303753, -4.05518832],\n",
       "       [ 0.        ,  0.        ,  0.        ,  1.        ]])"
      ]
     },
     "execution_count": 5,
     "metadata": {},
     "output_type": "execute_result"
    }
   ],
   "source": [
    "np.linalg.inv(M)"
   ]
  },
  {
   "cell_type": "code",
   "execution_count": 23,
   "metadata": {},
   "outputs": [
    {
     "data": {
      "text/plain": [
       "array([[ 0.99494936,  0.09425992,  0.03450864, -0.09820396],\n",
       "       [-0.02050235, -0.14570599,  0.98911547, -0.10625439],\n",
       "       [ 0.09826206, -0.98482731, -0.14303753, -4.05518832],\n",
       "       [ 0.        ,  0.        ,  0.        ,  1.        ]])"
      ]
     },
     "execution_count": 23,
     "metadata": {},
     "output_type": "execute_result"
    }
   ],
   "source": [
    "A=np.zeros_like(M)\n",
    "A[:3,:3]=M[:3,:3].T\n",
    "A[:3,-1]=np.matmul(-M[:3,:3].T, M[:3, -1])\n",
    "A[3,3]=1\n",
    "A"
   ]
  },
  {
   "cell_type": "code",
   "execution_count": 24,
   "metadata": {},
   "outputs": [
    {
     "data": {
      "text/plain": [
       "array([[ True,  True,  True,  True],\n",
       "       [ True,  True,  True,  True],\n",
       "       [ True,  True,  True,  True],\n",
       "       [ True,  True,  True,  True]])"
      ]
     },
     "execution_count": 24,
     "metadata": {},
     "output_type": "execute_result"
    }
   ],
   "source": [
    "np.abs(np.linalg.inv(M)-A)<1e-8"
   ]
  },
  {
   "cell_type": "code",
   "execution_count": 8,
   "metadata": {},
   "outputs": [
    {
     "data": {
      "text/plain": [
       "tensor([[[-0.3516,  1.1145,  0.2488,  0.8461],\n",
       "         [ 1.0391,  1.0456,  0.9945, -0.0475],\n",
       "         [ 0.7627, -0.0817, -0.6598, -1.8965],\n",
       "         [ 0.9918, -1.1941, -0.6342, -0.6497]],\n",
       "\n",
       "        [[ 0.9352, -0.1054, -0.9436, -0.5705],\n",
       "         [-0.3920, -0.3373, -0.4434,  0.1394],\n",
       "         [ 0.7392, -0.7222,  0.7845, -0.5661],\n",
       "         [-0.3790,  0.9515,  0.1758, -0.2998]],\n",
       "\n",
       "        [[ 0.3109, -1.8951,  1.7036,  1.1228],\n",
       "         [-1.2023,  0.1315, -0.9544, -0.7449],\n",
       "         [ 0.1932, -2.0160, -0.1076, -0.3073],\n",
       "         [-1.1677, -0.9357, -0.6709, -0.7698]]])"
      ]
     },
     "execution_count": 8,
     "metadata": {},
     "output_type": "execute_result"
    }
   ],
   "source": [
    "import torch\n",
    "M=torch.randn(3,4,4)\n",
    "M"
   ]
  },
  {
   "cell_type": "code",
   "execution_count": 14,
   "metadata": {},
   "outputs": [
    {
     "data": {
      "text/plain": [
       "tensor([[[ 1.0391,  1.0456,  0.9945, -0.0475],\n",
       "         [-0.3920, -0.3373, -0.4434,  0.1394]]])"
      ]
     },
     "execution_count": 14,
     "metadata": {},
     "output_type": "execute_result"
    }
   ],
   "source": [
    "import numpy as np\n",
    "idx0=torch.tensor([[0,1]])\n",
    "idx1=torch.tensor([[1,1]])\n",
    "M[idx0,idx1]"
   ]
  },
  {
   "cell_type": "code",
   "execution_count": 4,
   "metadata": {},
   "outputs": [
    {
     "data": {
      "text/plain": [
       "torch.Size([10, 4, 4])"
      ]
     },
     "execution_count": 4,
     "metadata": {},
     "output_type": "execute_result"
    }
   ],
   "source": [
    "M[[0,0,0,0,0,1,2,1,2,1]].shape"
   ]
  },
  {
   "cell_type": "code",
   "execution_count": 5,
   "metadata": {},
   "outputs": [
    {
     "ename": "IndexError",
     "evalue": "index 4 is out of bounds for dimension 0 with size 3",
     "output_type": "error",
     "traceback": [
      "\u001b[1;31m---------------------------------------------------------------------------\u001b[0m",
      "\u001b[1;31mIndexError\u001b[0m                                Traceback (most recent call last)",
      "Cell \u001b[1;32mIn[5], line 1\u001b[0m\n\u001b[1;32m----> 1\u001b[0m M[torch\u001b[39m.\u001b[39;49mTensor([\u001b[39m0\u001b[39;49m,\u001b[39m1\u001b[39;49m,\u001b[39m4\u001b[39;49m,\u001b[39m5\u001b[39;49m,\u001b[39m6\u001b[39;49m,\u001b[39m7\u001b[39;49m])\u001b[39m.\u001b[39;49mlong(),:\u001b[39m3\u001b[39;49m,\u001b[39m-\u001b[39;49m\u001b[39m1\u001b[39;49m]\u001b[39m.\u001b[39mshape\n",
      "\u001b[1;31mIndexError\u001b[0m: index 4 is out of bounds for dimension 0 with size 3"
     ]
    }
   ],
   "source": [
    "M[torch.Tensor([0,1,4,5,6,7]).long(),:3,-1].shape"
   ]
  },
  {
   "cell_type": "code",
   "execution_count": null,
   "metadata": {},
   "outputs": [
    {
     "data": {
      "text/plain": [
       "torch.Size([10, 4, 2])"
      ]
     },
     "execution_count": 17,
     "metadata": {},
     "output_type": "execute_result"
    }
   ],
   "source": [
    "(torch.randn(10,4,5)@torch.randn(10,5,2)).shape"
   ]
  },
  {
   "cell_type": "code",
   "execution_count": null,
   "metadata": {},
   "outputs": [
    {
     "name": "stderr",
     "output_type": "stream",
     "text": [
      "c:\\Users\\Sam\\miniconda3\\envs\\wisp1\\lib\\site-packages\\tqdm\\auto.py:21: TqdmWarning: IProgress not found. Please update jupyter and ipywidgets. See https://ipywidgets.readthedocs.io/en/stable/user_install.html\n",
      "  from .autonotebook import tqdm as notebook_tqdm\n"
     ]
    },
    {
     "data": {
      "text/plain": [
       "tensor([0, 1, 2, 3, 4, 5, 6, 7, 8, 9])"
      ]
     },
     "execution_count": 1,
     "metadata": {},
     "output_type": "execute_result"
    }
   ],
   "source": [
    "import torch\n",
    "\n",
    "idx=torch.arange(10)\n",
    "idx"
   ]
  },
  {
   "cell_type": "code",
   "execution_count": null,
   "metadata": {},
   "outputs": [
    {
     "data": {
      "text/plain": [
       "tensor([7, 8, 5, 3, 4, 6, 9, 2, 1, 0])"
      ]
     },
     "execution_count": 3,
     "metadata": {},
     "output_type": "execute_result"
    }
   ],
   "source": [
    "perm=torch.randperm(10)\n",
    "perm"
   ]
  },
  {
   "cell_type": "code",
   "execution_count": null,
   "metadata": {},
   "outputs": [
    {
     "data": {
      "text/plain": [
       "tensor([[0, 1, 2, 3, 4],\n",
       "        [5, 6, 7, 8, 9]])"
      ]
     },
     "execution_count": 12,
     "metadata": {},
     "output_type": "execute_result"
    }
   ],
   "source": [
    "idx.reshape(2,-1)"
   ]
  }
 ],
 "metadata": {
  "kernelspec": {
   "display_name": "wisp",
   "language": "python",
   "name": "python3"
  },
  "language_info": {
   "codemirror_mode": {
    "name": "ipython",
    "version": 3
   },
   "file_extension": ".py",
   "mimetype": "text/x-python",
   "name": "python",
   "nbconvert_exporter": "python",
   "pygments_lexer": "ipython3",
   "version": "3.9.16"
  },
  "orig_nbformat": 4
 },
 "nbformat": 4,
 "nbformat_minor": 2
}
